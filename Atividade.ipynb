{
  "nbformat": 4,
  "nbformat_minor": 0,
  "metadata": {
    "colab": {
      "name": "Untitled0.ipynb",
      "provenance": [],
      "authorship_tag": "ABX9TyMOszexhTp+CbwSUPeQyLgN",
      "include_colab_link": true
    },
    "kernelspec": {
      "name": "python3",
      "display_name": "Python 3"
    },
    "language_info": {
      "name": "python"
    }
  },
  "cells": [
    {
      "cell_type": "markdown",
      "metadata": {
        "id": "view-in-github",
        "colab_type": "text"
      },
      "source": [
        "<a href=\"https://colab.research.google.com/github/karine092/posgrad/blob/main/Atividade.ipynb\" target=\"_parent\"><img src=\"https://colab.research.google.com/assets/colab-badge.svg\" alt=\"Open In Colab\"/></a>"
      ]
    },
    {
      "cell_type": "code",
      "metadata": {
        "colab": {
          "base_uri": "https://localhost:8080/",
          "height": 231
        },
        "id": "qe2Vo2GkxLma",
        "outputId": "714f7e5c-ccbb-4ab5-802c-2020195075d3"
      },
      "source": [
        "# -*- coding: utf-8 -*-\n",
        "\n",
        "\n",
        "texto=[]\n",
        "f = open(r'C://Users//karin//Downloads//carta.txt',encoding = \"utf-8\" )    # para arquivos locais\n",
        "for line in f:\n",
        "  texto.append(line)\n",
        "\n",
        "for i in range(len(texto)):\n",
        "    texto[i] = texto[i].lower() # para unicidade\n",
        "    texto[i] = texto[i].replace('\\n','')\n",
        "    texto[i] = texto[i].replace('.','')\n",
        "    texto[i] = texto[i].replace(',','')\n",
        "    texto[i] = texto[i].replace('(','')\n",
        "    texto[i] = texto[i].replace(')','')\n",
        "    texto[i] = texto[i].replace('?','')\n",
        "    texto[i] = texto[i].replace('\\'','') # elimina ' e \"\n",
        "    \n",
        "mydict = {}                             # crie um dicionário vazio\n",
        "\n",
        "for line in texto:\n",
        "\n",
        "  line = line.lower()                   # converte para lower\n",
        "  words = line.split()                  # separa cada palavra\n",
        "#  print(words)\n",
        "\n",
        "  for word in words:                      # para cada palavra em words\n",
        "    if word not in mydict.keys():         # se palavra não está no dicionário \n",
        "      mydict[word] = 1                    # acrescenta a word com o valor 1\n",
        "    else:                                 # se a entrada já existe \n",
        "      mydict[word] =  mydict[word] + 1    # apenas soma 1 ao valor já existente\n",
        "\n",
        "print(mydict)   \n",
        "\n",
        "import pandas as pd\n",
        "import numpy as np\n",
        "#import seaborn as sns\n",
        "#import matplotlib as mpl\n",
        "import matplotlib.pyplot as plt\n",
        "\n",
        "df = pd.DataFrame(mydict.items(),  columns=['word', 'count']).sort_values('count',ascending=False)\n",
        "df = df[df['count'] > 40] # somente termos com mais de 4 ocorrências\n",
        "# df = df.iloc[ np.int(len(df)/2) - 10 : np.int(len(df)/2) + 10 ] # para livros ou textos com muitos termos limita a um número mínimo de termos\n",
        "\n",
        "\n",
        "plt.bar(df['word'],df['count'] )\n",
        "plt.show()\n",
        "\n",
        "        \n"
      ],
      "execution_count": 1,
      "outputs": [
        {
          "output_type": "error",
          "ename": "FileNotFoundError",
          "evalue": "ignored",
          "traceback": [
            "\u001b[0;31m---------------------------------------------------------------------------\u001b[0m",
            "\u001b[0;31mFileNotFoundError\u001b[0m                         Traceback (most recent call last)",
            "\u001b[0;32m<ipython-input-1-d20af50b6ec2>\u001b[0m in \u001b[0;36m<module>\u001b[0;34m()\u001b[0m\n\u001b[1;32m      3\u001b[0m \u001b[0;34m\u001b[0m\u001b[0m\n\u001b[1;32m      4\u001b[0m \u001b[0mtexto\u001b[0m\u001b[0;34m=\u001b[0m\u001b[0;34m[\u001b[0m\u001b[0;34m]\u001b[0m\u001b[0;34m\u001b[0m\u001b[0;34m\u001b[0m\u001b[0m\n\u001b[0;32m----> 5\u001b[0;31m \u001b[0mf\u001b[0m \u001b[0;34m=\u001b[0m \u001b[0mopen\u001b[0m\u001b[0;34m(\u001b[0m\u001b[0;34mr'C://Users//karin//Downloads//carta.txt'\u001b[0m\u001b[0;34m,\u001b[0m\u001b[0mencoding\u001b[0m \u001b[0;34m=\u001b[0m \u001b[0;34m\"utf-8\"\u001b[0m \u001b[0;34m)\u001b[0m    \u001b[0;31m# para arquivos locais\u001b[0m\u001b[0;34m\u001b[0m\u001b[0;34m\u001b[0m\u001b[0m\n\u001b[0m\u001b[1;32m      6\u001b[0m \u001b[0;32mfor\u001b[0m \u001b[0mline\u001b[0m \u001b[0;32min\u001b[0m \u001b[0mf\u001b[0m\u001b[0;34m:\u001b[0m\u001b[0;34m\u001b[0m\u001b[0;34m\u001b[0m\u001b[0m\n\u001b[1;32m      7\u001b[0m   \u001b[0mtexto\u001b[0m\u001b[0;34m.\u001b[0m\u001b[0mappend\u001b[0m\u001b[0;34m(\u001b[0m\u001b[0mline\u001b[0m\u001b[0;34m)\u001b[0m\u001b[0;34m\u001b[0m\u001b[0;34m\u001b[0m\u001b[0m\n",
            "\u001b[0;31mFileNotFoundError\u001b[0m: [Errno 2] No such file or directory: 'C://Users//karin//Downloads//carta.txt'"
          ]
        }
      ]
    }
  ]
}